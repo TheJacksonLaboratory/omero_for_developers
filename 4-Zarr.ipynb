{
 "cells": [
  {
   "cell_type": "markdown",
   "id": "suspected-intro",
   "metadata": {},
   "source": [
    "# Future formats: NGFF/Zarr\n",
    "\n",
    "The OME team is an effort to design a new cloud-friendly “Next Generation” file format (NGFF), combining the meta-data prowess of OME-TIFF with effecient n-Dimensional file stores.\n",
    "The current implementation uses Zarr to represent the pixel data as small n-Dimensional chunks.\n",
    "Zarr is intended to be very similar to the HDF5 format, but with several concessions to make it friendly for cloud-based storage.\n",
    "\n",
    "\n",
    "\n",
    "Links:\n",
    "* [zarr-pythom](https://zarr.readthedocs.io/en/stable/)\n",
    "* [NGFF specification](https://ngff.openmicroscopy.org)"
   ]
  },
  {
   "cell_type": "code",
   "execution_count": null,
   "id": "vietnamese-verification",
   "metadata": {},
   "outputs": [],
   "source": [
    "# General setup for this notebook\n",
    "import zarr\n",
    "import matplotlib.pyplot as plt"
   ]
  },
  {
   "cell_type": "markdown",
   "id": "extraordinary-niagara",
   "metadata": {},
   "source": [
    "## Access images from the IDR\n",
    "The [IDR](https://idr.openmicroscopy.org) is a public repository of images powered my OMERO.\n",
    "\n",
    "In addition to an OMERO interface, the IDR has all of its images stored in the NGFF format in cloud storage.\n",
    "\n",
    "We will play around with a zebra fish image, which can be [viewed in a browser](https://hms-dbmi.github.io/vizarr/?source=https://s3.embassy.ebi.ac.uk/idr/zarr/v0.1/4495402.zarr) using the web-base viewer vizarr."
   ]
  },
  {
   "cell_type": "markdown",
   "id": "conscious-alaska",
   "metadata": {},
   "source": [
    "As a programmer, one of the major benefits of Zarr is the array-like interface to the image data.\n",
    "The `ome_zarr` library provides a useful util for getting information on an image."
   ]
  },
  {
   "cell_type": "code",
   "execution_count": null,
   "id": "integrated-bishop",
   "metadata": {},
   "outputs": [],
   "source": [
    "!ome_zarr info https://s3.embassy.ebi.ac.uk/idr/zarr/v0.1/4495402.zarr"
   ]
  },
  {
   "cell_type": "markdown",
   "id": "spread-overall",
   "metadata": {},
   "source": [
    "Well, let's try to open the Zarr in python. Note, above, that this image is being stored at multiple resolutions!\n",
    "We'll open the smallest one for now...\n"
   ]
  },
  {
   "cell_type": "code",
   "execution_count": null,
   "id": "approved-claim",
   "metadata": {},
   "outputs": [],
   "source": [
    "root = zarr.open(\"https://s3.embassy.ebi.ac.uk/idr/zarr/v0.1/4495402.zarr/\")\n",
    "s7 = root['7']\n",
    "print(s7.shape)\n",
    "plt.imshow(s7[0,0,0,:,:])"
   ]
  },
  {
   "cell_type": "markdown",
   "id": "postal-royal",
   "metadata": {},
   "source": [
    "Ok, that's nice, but what if I am really intrested in a small cutout at high resolution??"
   ]
  },
  {
   "cell_type": "code",
   "execution_count": null,
   "id": "private-opposition",
   "metadata": {},
   "outputs": [],
   "source": [
    "s0 = root['0']\n",
    "crop = s0[0,0,0,200000:201000,800000:801000]\n",
    "plt.imshow(crop)"
   ]
  },
  {
   "cell_type": "markdown",
   "id": "statutory-comedy",
   "metadata": {},
   "source": [
    "## Extra: Converting images to zarr\n",
    "\n",
    "The [omero-cli-zarr](https://github.com/ome/omero-cli-zarr/) can be used to convert an image from OMERO into a local (to you) Zarr file for easy access.\n",
    "If available, this tool will use the [bioformats2raw](https://github.com/glencoesoftware/bioformats2raw) tool, but will fall back to use the slower pixels service if necessary."
   ]
  },
  {
   "cell_type": "code",
   "execution_count": null,
   "id": "facial-packing",
   "metadata": {},
   "outputs": [],
   "source": [
    "# EPTODO: Walk through doing an omero login and then converting?\n",
    "# Image will be saved in current directory as 1.zarr\n",
    "!omero zarr export Image:1"
   ]
  },
  {
   "cell_type": "code",
   "execution_count": null,
   "id": "familiar-illinois",
   "metadata": {},
   "outputs": [],
   "source": []
  }
 ],
 "metadata": {
  "kernelspec": {
   "display_name": "Python 3",
   "language": "python",
   "name": "python3"
  },
  "language_info": {
   "codemirror_mode": {
    "name": "ipython",
    "version": 3
   },
   "file_extension": ".py",
   "mimetype": "text/x-python",
   "name": "python",
   "nbconvert_exporter": "python",
   "pygments_lexer": "ipython3",
   "version": "3.8.8"
  }
 },
 "nbformat": 4,
 "nbformat_minor": 5
}
