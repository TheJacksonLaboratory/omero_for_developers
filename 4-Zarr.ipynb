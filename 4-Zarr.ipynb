{
 "cells": [
  {
   "cell_type": "markdown",
   "id": "distant-district",
   "metadata": {},
   "source": [
    "# Future formats: NGFF/Zarr\n",
    "\n",
    "The OME team is an effort to design a new cloud-friendly “Next Generation” file format (NGFF), combining the meta-data prowess of OME-TIFF with effecient n-Dimensional file stores.\n",
    "The current implementation uses Zarr to represent the pixel data as small n-Dimensional chunks.\n",
    "Zarr is intended to be very similar to the HDF5 format, but with several concessions to make it friendly for cloud-based storage.\n",
    "\n",
    "\n",
    "Links:\n",
    "* [zarr-python](https://zarr.readthedocs.io/en/stable/)\n",
    "* [NGFF specification](https://ngff.openmicroscopy.org)"
   ]
  },
  {
   "cell_type": "code",
   "execution_count": null,
   "id": "collectible-impossible",
   "metadata": {},
   "outputs": [],
   "source": [
    "# One time only -- install the libraries via pip\n",
    "!pip install ome-zarr==0.0.17 omero-cli-zarr==0.0.9 zarr==2.6.1"
   ]
  },
  {
   "cell_type": "code",
   "execution_count": null,
   "id": "confident-february",
   "metadata": {},
   "outputs": [],
   "source": [
    "# General setup for this notebook\n",
    "import zarr\n",
    "import matplotlib.pyplot as plt"
   ]
  },
  {
   "cell_type": "markdown",
   "id": "radical-rally",
   "metadata": {},
   "source": [
    "## Access images from the IDR\n",
    "The [IDR](https://idr.openmicroscopy.org) is a public repository of images powered my OMERO.\n",
    "\n",
    "In addition to an OMERO interface, the IDR has all of its images stored in the NGFF format in cloud storage.\n",
    "\n",
    "We will play around with a zebra fish image, which can be [viewed in a browser](https://hms-dbmi.github.io/vizarr/?source=https://s3.embassy.ebi.ac.uk/idr/zarr/v0.1/4495402.zarr) using the web-base viewer vizarr."
   ]
  },
  {
   "cell_type": "markdown",
   "id": "functioning-request",
   "metadata": {},
   "source": [
    "As a programmer, one of the major benefits of Zarr is the array-like interface to the image data.\n",
    "The `ome_zarr` library provides a useful util for getting information on an image."
   ]
  },
  {
   "cell_type": "code",
   "execution_count": null,
   "id": "sapphire-zimbabwe",
   "metadata": {},
   "outputs": [],
   "source": [
    "# The ome-zarr package installes the ome_zarr command-line utility for working with ome-zarr (NGFF)\n",
    "!ome_zarr info https://s3.embassy.ebi.ac.uk/idr/zarr/v0.1/4495402.zarr"
   ]
  },
  {
   "cell_type": "markdown",
   "id": "surrounded-smile",
   "metadata": {},
   "source": [
    "Well, let's try to open the Zarr in python. Note, above, that this image is being stored at multiple resolutions!\n",
    "We'll open the smallest one for now...\n"
   ]
  },
  {
   "cell_type": "code",
   "execution_count": null,
   "id": "loose-responsibility",
   "metadata": {},
   "outputs": [],
   "source": [
    "root = zarr.open(\"https://s3.embassy.ebi.ac.uk/idr/zarr/v0.1/4495402.zarr/\")\n",
    "s7 = root['7']\n",
    "print(s7.shape)\n",
    "plt.imshow(s7[0,0,0,:,:])"
   ]
  },
  {
   "cell_type": "markdown",
   "id": "offensive-electricity",
   "metadata": {},
   "source": [
    "Ok, that's nice, but what if I am really intrested in a small cutout at high resolution??"
   ]
  },
  {
   "cell_type": "code",
   "execution_count": null,
   "id": "artificial-girlfriend",
   "metadata": {},
   "outputs": [],
   "source": [
    "s0 = root['0']\n",
    "crop = s0[0,0,0,200000:201000,800000:801000]\n",
    "plt.imshow(crop)"
   ]
  },
  {
   "cell_type": "markdown",
   "id": "integrated-quest",
   "metadata": {},
   "source": [
    "## Extra: Converting OMERO images to zarr\n",
    "\n",
    "The [omero-cli-zarr](https://github.com/ome/omero-cli-zarr/) can be used to convert an image from OMERO into a local (to you) Zarr file for easy access.\n",
    "If available, this tool will use the [bioformats2raw](https://github.com/glencoesoftware/bioformats2raw) tool, but will fall back to use the slower pixels service if necessary.\n",
    "\n",
    "_Optional:_ `conda install -c ome bioformats2raw` is the easiest way to install `bioformats2raw`, but you'll end up installing an entire copy of java as well!"
   ]
  },
  {
   "cell_type": "code",
   "execution_count": null,
   "id": "north-account",
   "metadata": {},
   "outputs": [],
   "source": [
    "# Log into the OMERO server using the CLI\n",
    "# This caches a credential for ~10 minutes for command line access\n",
    "!omero login --server ctomerodev.jax.org  --user USERNAME --password PASSWORD"
   ]
  },
  {
   "cell_type": "code",
   "execution_count": null,
   "id": "specified-oracle",
   "metadata": {},
   "outputs": [],
   "source": [
    "# Download one of the images & check the contents\n",
    "!omero zarr export Image:6100\n",
    "!ome_zarr info 6100.zarr"
   ]
  },
  {
   "cell_type": "markdown",
   "id": "banned-grass",
   "metadata": {},
   "source": [
    "Now, let's open this image and plot all of the Z layers."
   ]
  },
  {
   "cell_type": "code",
   "execution_count": null,
   "id": "nutritional-electron",
   "metadata": {},
   "outputs": [],
   "source": [
    "root = zarr.open(\"6100.zarr\")\n",
    "s7 = root['0']\n",
    "print(s7.shape)\n",
    "\n",
    "cols = 4\n",
    "axes = []\n",
    "fig = plt.figure(figsize=(16, 10))\n",
    "for z in range(s7.shape[0]):\n",
    "    axes.append( fig.add_subplot((s7.shape[0] // cols)+1, cols, z+1))\n",
    "    subplot_title=(\"z=%d\" % z)\n",
    "    axes[-1].set_title(subplot_title) \n",
    "    plt.imshow(s7[z,0,0,:,:])\n",
    "plt.show()"
   ]
  }
 ],
 "metadata": {
  "kernelspec": {
   "display_name": "Python 3",
   "language": "python",
   "name": "python3"
  },
  "language_info": {
   "codemirror_mode": {
    "name": "ipython",
    "version": 3
   },
   "file_extension": ".py",
   "mimetype": "text/x-python",
   "name": "python",
   "nbconvert_exporter": "python",
   "pygments_lexer": "ipython3",
   "version": "3.8.8"
  }
 },
 "nbformat": 4,
 "nbformat_minor": 5
}
