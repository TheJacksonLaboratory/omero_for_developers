{
 "cells": [
  {
   "cell_type": "code",
   "execution_count": null,
   "metadata": {},
   "outputs": [],
   "source": [
    "from config import OMEROUSER, OMEROPASS, OMEROHOST, OMEROPORT, OMEROWEB\n",
    "from json_session import create_json_session, retrieve_image\n",
    "import matplotlib.pyplot as plt\n",
    "import requests\n",
    "import json\n",
    "\n",
    "login_rsp, session, base_url = create_json_session(OMEROWEB, OMEROUSER, OMEROPASS, verify=False)"
   ]
  },
  {
   "cell_type": "code",
   "execution_count": null,
   "metadata": {},
   "outputs": [],
   "source": [
    "r = session.get(base_url)\n",
    "urls = r.json()\n",
    "print(json.dumps(urls, indent=2))"
   ]
  },
  {
   "cell_type": "code",
   "execution_count": null,
   "metadata": {},
   "outputs": [],
   "source": [
    "servers_url = urls['url:servers']\n",
    "servers_json = session.get(servers_url).json()\n",
    "print(json.dumps(servers_json, indent=2))"
   ]
  },
  {
   "cell_type": "code",
   "execution_count": null,
   "metadata": {},
   "outputs": [],
   "source": [
    "projects_url = urls['url:projects']\n",
    "user1_url = projects_url+\"?owner=553\"\n",
    "user1_json = session.get(user1_url).json()\n",
    "print(json.dumps(user1_json, indent=1))"
   ]
  },
  {
   "cell_type": "code",
   "execution_count": null,
   "metadata": {},
   "outputs": [],
   "source": [
    "myproj_id = 557\n",
    "myproj_url = projects_url+str(myproj_id)+\"/\"\n",
    "myproj_json = session.get(myproj_url).json()\n",
    "print(json.dumps(myproj_json, indent=1))"
   ]
  },
  {
   "cell_type": "code",
   "execution_count": null,
   "metadata": {},
   "outputs": [],
   "source": [
    "data_in_proj_url = myproj_url + \"datasets/\"\n",
    "print(data_in_proj_url)\n",
    "data_in_proj_json = session.get(data_in_proj_url).json()\n",
    "print(json.dumps(data_in_proj_json, indent=1))"
   ]
  },
  {
   "cell_type": "code",
   "execution_count": null,
   "metadata": {},
   "outputs": [],
   "source": [
    "ds_id = 858\n",
    "data_url = urls['url:datasets'] + str(ds_id) + \"/\"\n",
    "print(data_url)\n",
    "data_json = session.get(data_url).json()\n",
    "print(json.dumps(data_json, indent=1))"
   ]
  },
  {
   "cell_type": "code",
   "execution_count": null,
   "metadata": {},
   "outputs": [],
   "source": [
    "images_in_ds_url = data_url + \"images/\"\n",
    "print(images_in_ds_url)"
   ]
  },
  {
   "cell_type": "code",
   "execution_count": null,
   "metadata": {},
   "outputs": [],
   "source": [
    "image_id = 6013\n",
    "image_url = urls['url:images'] + str(image_id) + \"/\"\n",
    "print(image_url)\n",
    "image_json = session.get(image_url).json()\n",
    "print(json.dumps(image_json, indent=1))"
   ]
  },
  {
   "cell_type": "code",
   "execution_count": null,
   "metadata": {},
   "outputs": [],
   "source": [
    "rois_url = image_url + \"rois/\"\n",
    "print(rois_url)\n",
    "rois_json = session.get(rois_url).json()\n",
    "print(json.dumps(rois_json, indent=1))"
   ]
  },
  {
   "cell_type": "code",
   "execution_count": null,
   "metadata": {},
   "outputs": [],
   "source": [
    "scale_factor=1\n",
    "img = retrieve_image(session, base_url, image_id, scale_factor)\n",
    "plt.imshow(img)"
   ]
  }
 ],
 "metadata": {
  "kernelspec": {
   "display_name": "Python 3",
   "language": "python",
   "name": "python3"
  },
  "language_info": {
   "codemirror_mode": {
    "name": "ipython",
    "version": 3
   },
   "file_extension": ".py",
   "mimetype": "text/x-python",
   "name": "python",
   "nbconvert_exporter": "python",
   "pygments_lexer": "ipython3",
   "version": "3.6.12"
  }
 },
 "nbformat": 4,
 "nbformat_minor": 4
}
