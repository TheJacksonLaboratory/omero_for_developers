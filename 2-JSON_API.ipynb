{
 "cells": [
  {
   "cell_type": "markdown",
   "metadata": {},
   "source": [
    "So now we'll focus on the JSON/web API - this is basically generating a session, and then \"pinging\" specific URLs for JSON responses with relevant information. This API is good for when you need to list stuff as text, getting metadata and rendering thumbnails/downsampled versions of your image. It is bad for creating stuff and essentially cannot get raw pixels.\n",
    "\n",
    "We start the same way as in the intro - config file, helper functions, matplotlib. I'm also importing `json` for formatted outputs. Then, I'm using that same helper function to create a session."
   ]
  },
  {
   "cell_type": "code",
   "execution_count": null,
   "metadata": {},
   "outputs": [],
   "source": [
    "from config import OMEROUSER, OMEROPASS, OMEROHOST, OMEROPORT, OMEROWEB\n",
    "from ezomero.json_api import create_json_session, get_rendered_jpeg\n",
    "import matplotlib.pyplot as plt\n",
    "import requests\n",
    "import json\n",
    "import warnings\n",
    "warnings.filterwarnings(action=\"once\") # silence repeated http warnings in JSON API calls\n",
    "\n",
    "login_rsp, session, base_url = create_json_session(web_host=OMEROWEB, user=OMEROUSER, password=OMEROPASS,\n",
    "                                                   verify=False) # use verify=False for dev server,\n",
    "                                                                 # use verify=True for JAX research server"
   ]
  },
  {
   "cell_type": "markdown",
   "metadata": {},
   "source": [
    "First of all, let's have a look at the list of URLs this API gives us. "
   ]
  },
  {
   "cell_type": "code",
   "execution_count": null,
   "metadata": {},
   "outputs": [],
   "source": [
    "r = session.get(base_url)\n",
    "urls = r.json()\n",
    "print(json.dumps(urls, indent=1))"
   ]
  },
  {
   "cell_type": "markdown",
   "metadata": {},
   "source": [
    "Ok, let's start by having a look at the omero servers associated to this web interface - in this case it's boring because it's just the one server. But this is an example for the general flow of this section: start from one of the basic URLs we retrieved from the server, add extra bits when necessary, put that into a `get` request and get the json output/print it nicely."
   ]
  },
  {
   "cell_type": "code",
   "execution_count": null,
   "metadata": {},
   "outputs": [],
   "source": [
    "servers_url = urls['url:servers']\n",
    "servers_json = session.get(servers_url).json()\n",
    "print(json.dumps(servers_json, indent=1))"
   ]
  },
  {
   "cell_type": "markdown",
   "metadata": {},
   "source": [
    "Now let's have a look at all projects from a specific owner. (Here I am getting one specific user id, but alternatively you can list groups by `experimentergroups` URL, get the group ID you want, retrieve experimenters with `experimentergroups/{group_id}/experimenters/` and get the ID you want). Filter projects by owner URL, get JSON, print, as usual."
   ]
  },
  {
   "cell_type": "code",
   "execution_count": null,
   "metadata": {},
   "outputs": [],
   "source": [
    "projects_url = urls['url:projects']\n",
    "user1_url = projects_url+\"?owner=205\"\n",
    "user1_json = session.get(user1_url).json()\n",
    "print(json.dumps(user1_json, indent=1))"
   ]
  },
  {
   "cell_type": "markdown",
   "metadata": {},
   "source": [
    "Ok, so now we get any project id there and have a look at that project in specific."
   ]
  },
  {
   "cell_type": "code",
   "execution_count": null,
   "metadata": {},
   "outputs": [],
   "source": [
    "myproj_id = 405\n",
    "myproj_url = projects_url+str(myproj_id)+\"/\"\n",
    "myproj_json = session.get(myproj_url).json()\n",
    "print(json.dumps(myproj_json, indent=1))"
   ]
  },
  {
   "cell_type": "markdown",
   "metadata": {},
   "source": [
    "Now we can look at data about the individual datasets inside that project."
   ]
  },
  {
   "cell_type": "code",
   "execution_count": null,
   "metadata": {},
   "outputs": [],
   "source": [
    "data_in_proj_url = myproj_url + \"datasets/\"\n",
    "print(data_in_proj_url)\n",
    "data_in_proj_json = session.get(data_in_proj_url).json()\n",
    "print(json.dumps(data_in_proj_json, indent=1))"
   ]
  },
  {
   "cell_type": "markdown",
   "metadata": {},
   "source": [
    "Let's keep digging! I'll get one of those dataset ids and look at it."
   ]
  },
  {
   "cell_type": "code",
   "execution_count": null,
   "metadata": {},
   "outputs": [],
   "source": [
    "ds_id = 561\n",
    "data_url = urls['url:datasets'] + str(ds_id) + \"/\"\n",
    "print(data_url)\n",
    "data_json = session.get(data_url).json()\n",
    "print(json.dumps(data_json, indent=1))"
   ]
  },
  {
   "cell_type": "markdown",
   "metadata": {},
   "source": [
    "And this is the URL you'd use to get info about each image in that dataset - I won't do it because it's a lot of output!"
   ]
  },
  {
   "cell_type": "code",
   "execution_count": null,
   "metadata": {},
   "outputs": [],
   "source": [
    "images_in_ds_url = data_url + \"images/\"\n",
    "print(images_in_ds_url)"
   ]
  },
  {
   "cell_type": "markdown",
   "metadata": {},
   "source": [
    "I will, though, have a look at one individual image."
   ]
  },
  {
   "cell_type": "code",
   "execution_count": null,
   "metadata": {},
   "outputs": [],
   "source": [
    "image_id = 39005\n",
    "image_url = urls['url:images'] + str(image_id) + \"/\"\n",
    "print(image_url)\n",
    "image_json = session.get(image_url).json()\n",
    "print(json.dumps(image_json, indent=1))"
   ]
  },
  {
   "cell_type": "markdown",
   "metadata": {},
   "source": [
    "Finally, let's have a look at all the ROIs in this image. If your image doesn't have any ROIs, go to OMERO.web, draw a couple and run this again."
   ]
  },
  {
   "cell_type": "code",
   "execution_count": null,
   "metadata": {},
   "outputs": [],
   "source": [
    "rois_url = image_url + \"rois/\"\n",
    "print(rois_url)\n",
    "rois_json = session.get(rois_url).json()\n",
    "print(json.dumps(rois_json, indent=1))"
   ]
  },
  {
   "cell_type": "markdown",
   "metadata": {},
   "source": [
    "Finally, as a reminder, let's retrieve a jpeg-compressed version of our image!"
   ]
  },
  {
   "cell_type": "code",
   "execution_count": null,
   "metadata": {},
   "outputs": [],
   "source": [
    "scale_factor=1\n",
    "img = get_rendered_jpeg(session, base_url, image_id, scale_factor)\n",
    "plt.imshow(img)"
   ]
  },
  {
   "cell_type": "code",
   "execution_count": null,
   "metadata": {},
   "outputs": [],
   "source": []
  }
 ],
 "metadata": {
  "kernelspec": {
   "display_name": "Python 3 (ipykernel)",
   "language": "python",
   "name": "python3"
  },
  "language_info": {
   "codemirror_mode": {
    "name": "ipython",
    "version": 3
   },
   "file_extension": ".py",
   "mimetype": "text/x-python",
   "name": "python",
   "nbconvert_exporter": "python",
   "pygments_lexer": "ipython3",
   "version": "3.9.13"
  }
 },
 "nbformat": 4,
 "nbformat_minor": 4
}
