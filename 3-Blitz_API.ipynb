{
 "cells": [
  {
   "cell_type": "markdown",
   "metadata": {},
   "source": [
    "Time to dig into the Blitz API - this is the more powerful API (afaik the one thing it doesn't do well is thumbnail/downsampled image generation). It uses Ice (whatever that is) to talk directly to the OMERO server, rather than going through the web interface. The beginning is familiar: import configs, the `BlitzGateway` class, matplotlib, and here we are importing the whole `ezomero` library for all the helper functions Dave has already written. (if we didn't have `ezomero`, the list of things to be imported from `omero` would be MUCH longer."
   ]
  },
  {
   "cell_type": "code",
   "execution_count": null,
   "metadata": {},
   "outputs": [],
   "source": [
    "from config import OMEROUSER, OMEROPASS, OMEROHOST, OMEROPORT, OMEROWEB\n",
    "from omero.gateway import BlitzGateway\n",
    "import matplotlib.pyplot as plt\n",
    "import ezomero"
   ]
  },
  {
   "cell_type": "markdown",
   "metadata": {},
   "source": [
    "Again, pretty familiar: create `BlitzGateway` instance, connect it, print return code to make sure it worked."
   ]
  },
  {
   "cell_type": "code",
   "execution_count": null,
   "metadata": {},
   "outputs": [],
   "source": [
    "conn = BlitzGateway(OMEROUSER, OMEROPASS, port=OMEROPORT, host=OMEROHOST)\n",
    "ret = conn.connect()\n",
    "print(ret)"
   ]
  },
  {
   "cell_type": "markdown",
   "metadata": {},
   "source": [
    "This whole block will have a lot of stuff about users and groups. We get the current user, check its ID, name and full name, check if we're an admin. Then, we list the groups we're a member of and the current group we are accessing. If you need data from a different group, you WILL need to changr groups (we have a `set_group` helper function in `ezomero`). Then, we have a look at the current group's owners and which groups our current user owns."
   ]
  },
  {
   "cell_type": "code",
   "execution_count": null,
   "metadata": {},
   "outputs": [],
   "source": [
    "user = conn.getUser()\n",
    "print(\"Current user:\")\n",
    "print(\"   ID:\", user.getId())\n",
    "print(\"   Username:\", user.getName())\n",
    "print(\"   Full Name:\", user.getFullName())\n",
    "\n",
    "# Check if you are an Administrator\n",
    "print(\"   Is Admin:\", conn.isAdmin())\n",
    "if not conn.isFullAdmin():\n",
    "    # If 'Restricted Administrator' show privileges\n",
    "    print(conn.getCurrentAdminPrivileges())\n",
    "\n",
    "print(\"Member of:\")\n",
    "for g in conn.getGroupsMemberOf():\n",
    "    print(\"   ID:\", g.getName(), \" Name:\", g.getId())\n",
    "group = conn.getGroupFromContext()\n",
    "print(\"Current group: \", group.getName())\n",
    "\n",
    "# List the group owners and other members\n",
    "owners, members = group.groupSummary()\n",
    "print(\"   Group owners:\")\n",
    "for o in owners:\n",
    "    print(\"     ID: %s %s Name: %s\" % (\n",
    "        o.getId(), o.getOmeName(), o.getFullName()))\n",
    "\n",
    "print(\"Owner of:\")\n",
    "for g in conn.listOwnedGroups():\n",
    "    print(\"   ID: \", g.getName(), \" Name:\", g.getId())\n"
   ]
  },
  {
   "cell_type": "markdown",
   "metadata": {},
   "source": [
    "Let's start with where we ended in the previous section - retrieving the pixels of the image and plotting them. Here, we are plotting only the first timepoint/channel/slice of a 5d image. "
   ]
  },
  {
   "cell_type": "code",
   "execution_count": null,
   "metadata": {},
   "outputs": [],
   "source": [
    "image_id = 5980\n",
    "img, pix = ezomero.get_image(conn, image_id, xyzct=True)\n",
    "print(pix.shape)\n",
    "plt.imshow(pix[:,:,0,0,0].T)"
   ]
  },
  {
   "cell_type": "markdown",
   "metadata": {},
   "source": [
    "But how do you get an image id programatically? Glad you asked. (this is a good way to loop over all images in a dataset, for example.)"
   ]
  },
  {
   "cell_type": "code",
   "execution_count": null,
   "metadata": {},
   "outputs": [],
   "source": [
    "dataset_id = 859\n",
    "id_list = ezomero.get_image_ids(conn, dataset_id)\n",
    "print(id_list)"
   ]
  },
  {
   "cell_type": "markdown",
   "metadata": {},
   "source": [
    "You can also loop over all map annotations (i.e. key-value pairs)  in an image. "
   ]
  },
  {
   "cell_type": "code",
   "execution_count": null,
   "metadata": {},
   "outputs": [],
   "source": [
    "image_id = 6028\n",
    "ann_ids = ezomero.get_map_annotation_ids(conn, 'Image', image_id)\n",
    "print(ann_ids)"
   ]
  },
  {
   "cell_type": "markdown",
   "metadata": {},
   "source": [
    "And then it's easy to print individual map annotations when you have their id."
   ]
  },
  {
   "cell_type": "code",
   "execution_count": null,
   "metadata": {},
   "outputs": [],
   "source": [
    "ezomero.print_map_annotation(conn, ann_ids[0])"
   ]
  },
  {
   "cell_type": "markdown",
   "metadata": {},
   "source": [
    "You can retrieve group ID and user ID by name using these helpful functions."
   ]
  },
  {
   "cell_type": "code",
   "execution_count": null,
   "metadata": {},
   "outputs": [],
   "source": [
    "group_id = ezomero.get_group_id(conn,'training')\n",
    "print(group_id)"
   ]
  },
  {
   "cell_type": "code",
   "execution_count": null,
   "metadata": {},
   "outputs": [],
   "source": [
    "user_id = ezomero.get_user_id(conn, 'trainer-1')\n",
    "print(user_id)"
   ]
  },
  {
   "cell_type": "markdown",
   "metadata": {},
   "source": [
    "You can also list all projects your current user has access to in their current group, and list all datasets in a given project as long as you have its id."
   ]
  },
  {
   "cell_type": "code",
   "execution_count": null,
   "metadata": {},
   "outputs": [],
   "source": [
    "ezomero.print_projects(conn)\n",
    "proj_id = 557"
   ]
  },
  {
   "cell_type": "code",
   "execution_count": null,
   "metadata": {},
   "outputs": [],
   "source": [
    "ezomero.print_datasets(conn,proj_id)"
   ]
  },
  {
   "cell_type": "markdown",
   "metadata": {},
   "source": [
    "You can also use this API to easily create new stuff - in this case, we create a new dataset named `test_dataset` inside the project with given ID. "
   ]
  },
  {
   "cell_type": "code",
   "execution_count": null,
   "metadata": {},
   "outputs": [],
   "source": [
    "data_id = ezomero.post_dataset(conn, 'test_dataset',proj_id)"
   ]
  },
  {
   "cell_type": "markdown",
   "metadata": {},
   "source": [
    "Finally, we will create a new image (from a random `numpy` array) and add it to our new dataset - furthermore, we will create a new map annotation and add it to the new image (we get both the dataset id and the image id as return values of the relevant functions)"
   ]
  },
  {
   "cell_type": "code",
   "execution_count": null,
   "metadata": {},
   "outputs": [],
   "source": [
    "from numpy.random import rand\n",
    "img = rand(1000,1000,1,1,1)\n",
    "img_id = ezomero.post_image(conn, img, 'randomimage.tif', dataset_id=data_id)"
   ]
  },
  {
   "cell_type": "code",
   "execution_count": null,
   "metadata": {},
   "outputs": [],
   "source": [
    "ann_id = ezomero.post_map_annotation(conn, 'Image', img_id, {\"test\": 1, \"test2\": 2}, 'test_ns')"
   ]
  },
  {
   "cell_type": "markdown",
   "metadata": {},
   "source": [
    "ROI stuff is kinda hard - an \"ROI\" can be a dozen different objects, so we do not have any specific ROI functions right now. For general ROI info you can use the example in the JSON API notebook, for more specific stuff we'd be happy to point you towards code snippets (for retrieving, for example, pixel statistics in an ROI, or creating ROIs). If we have time, I can show that as well at this point."
   ]
  },
  {
   "cell_type": "code",
   "execution_count": null,
   "metadata": {},
   "outputs": [],
   "source": []
  }
 ],
 "metadata": {
  "kernelspec": {
   "display_name": "Python 3",
   "language": "python",
   "name": "python3"
  },
  "language_info": {
   "codemirror_mode": {
    "name": "ipython",
    "version": 3
   },
   "file_extension": ".py",
   "mimetype": "text/x-python",
   "name": "python",
   "nbconvert_exporter": "python",
   "pygments_lexer": "ipython3",
   "version": "3.6.12"
  }
 },
 "nbformat": 4,
 "nbformat_minor": 4
}
