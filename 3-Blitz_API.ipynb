{
 "cells": [
  {
   "cell_type": "code",
   "execution_count": null,
   "metadata": {},
   "outputs": [],
   "source": [
    "from config import OMEROUSER, OMEROPASS, OMEROHOST, OMEROPORT, OMEROWEB\n",
    "from omero.gateway import BlitzGateway\n",
    "import matplotlib.pyplot as plt\n",
    "import ezomero"
   ]
  },
  {
   "cell_type": "code",
   "execution_count": null,
   "metadata": {},
   "outputs": [],
   "source": [
    "conn = BlitzGateway(OMEROUSER, OMEROPASS, port=OMEROPORT, host=OMEROHOST)\n",
    "ret = conn.connect()\n",
    "print(ret)"
   ]
  },
  {
   "cell_type": "code",
   "execution_count": null,
   "metadata": {},
   "outputs": [],
   "source": [
    "user = conn.getUser()\n",
    "print(\"Current user:\")\n",
    "print(\"   ID:\", user.getId())\n",
    "print(\"   Username:\", user.getName())\n",
    "print(\"   Full Name:\", user.getFullName())\n",
    "\n",
    "# Check if you are an Administrator\n",
    "print(\"   Is Admin:\", conn.isAdmin())\n",
    "if not conn.isFullAdmin():\n",
    "    # If 'Restricted Administrator' show privileges\n",
    "    print(conn.getCurrentAdminPrivileges())\n",
    "\n",
    "print(\"Member of:\")\n",
    "for g in conn.getGroupsMemberOf():\n",
    "    print(\"   ID:\", g.getName(), \" Name:\", g.getId())\n",
    "group = conn.getGroupFromContext()\n",
    "print(\"Current group: \", group.getName())\n",
    "\n",
    "# List the group owners and other members\n",
    "owners, members = group.groupSummary()\n",
    "print(\"   Group owners:\")\n",
    "for o in owners:\n",
    "    print(\"     ID: %s %s Name: %s\" % (\n",
    "        o.getId(), o.getOmeName(), o.getFullName()))\n",
    "\n",
    "print(\"Owner of:\")\n",
    "for g in conn.listOwnedGroups():\n",
    "    print(\"   ID: \", g.getName(), \" Name:\", g.getId())\n"
   ]
  },
  {
   "cell_type": "code",
   "execution_count": null,
   "metadata": {},
   "outputs": [],
   "source": [
    "image_id = 5980\n",
    "img, pix = ezomero.get_image(conn, image_id, xyzct=True)\n",
    "print(pix.shape)\n",
    "plt.imshow(pix[:,:,0,0,0].T)"
   ]
  },
  {
   "cell_type": "code",
   "execution_count": null,
   "metadata": {},
   "outputs": [],
   "source": [
    "dataset_id = 859\n",
    "id_list = ezomero.get_image_ids(conn, dataset_id)\n",
    "print(id_list)"
   ]
  },
  {
   "cell_type": "code",
   "execution_count": null,
   "metadata": {},
   "outputs": [],
   "source": [
    "image_id = 6028\n",
    "ann_ids = ezomero.get_map_annotation_ids(conn, 'Image', image_id)\n",
    "print(ann_ids)"
   ]
  },
  {
   "cell_type": "code",
   "execution_count": null,
   "metadata": {},
   "outputs": [],
   "source": [
    "ezomero.print_map_annotation(conn, ann_ids[0])"
   ]
  },
  {
   "cell_type": "code",
   "execution_count": null,
   "metadata": {},
   "outputs": [],
   "source": [
    "group_id = ezomero.get_group_id(conn,'training')\n",
    "print(group_id)"
   ]
  },
  {
   "cell_type": "code",
   "execution_count": null,
   "metadata": {},
   "outputs": [],
   "source": [
    "user_id = ezomero.get_user_id(conn, 'trainer-1')\n",
    "print(user_id)"
   ]
  },
  {
   "cell_type": "code",
   "execution_count": null,
   "metadata": {},
   "outputs": [],
   "source": [
    "ezomero.print_projects(conn)"
   ]
  },
  {
   "cell_type": "code",
   "execution_count": null,
   "metadata": {},
   "outputs": [],
   "source": [
    "ezomero.print_datasets(conn,557)"
   ]
  },
  {
   "cell_type": "code",
   "execution_count": null,
   "metadata": {},
   "outputs": [],
   "source": [
    "proj_id = 557\n",
    "data_id = ezomero.post_dataset(conn, 'test_dataset',proj_id)"
   ]
  },
  {
   "cell_type": "code",
   "execution_count": null,
   "metadata": {},
   "outputs": [],
   "source": [
    "from numpy.random import rand\n",
    "img = rand(1000,1000,1,1,1)\n",
    "img_id = ezomero.post_image(conn, img, 'randomimage.tif', dataset_id=data_id)"
   ]
  },
  {
   "cell_type": "code",
   "execution_count": null,
   "metadata": {},
   "outputs": [],
   "source": [
    "ann_id = ezomero.post_map_annotation(conn, 'Image', img_id, {\"test\": 1, \"test2\": 2}, 'test_ns')"
   ]
  },
  {
   "cell_type": "code",
   "execution_count": null,
   "metadata": {},
   "outputs": [],
   "source": []
  }
 ],
 "metadata": {
  "kernelspec": {
   "display_name": "Python 3",
   "language": "python",
   "name": "python3"
  },
  "language_info": {
   "codemirror_mode": {
    "name": "ipython",
    "version": 3
   },
   "file_extension": ".py",
   "mimetype": "text/x-python",
   "name": "python",
   "nbconvert_exporter": "python",
   "pygments_lexer": "ipython3",
   "version": "3.6.12"
  }
 },
 "nbformat": 4,
 "nbformat_minor": 4
}
